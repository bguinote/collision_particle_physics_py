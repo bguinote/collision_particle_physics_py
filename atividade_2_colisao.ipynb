{
 "cells": [
  {
   "cell_type": "code",
   "execution_count": 13,
   "id": "f3f71c22",
   "metadata": {},
   "outputs": [],
   "source": [
    "import numpy as np\n",
    "import matplotlib.pylab as plt\n",
    "from math import sqrt\n",
    "import pps_tools as pps\n",
    "import h5hep"
   ]
  },
  {
   "cell_type": "code",
   "execution_count": 14,
   "id": "1d59c2a8",
   "metadata": {},
   "outputs": [],
   "source": [
    "pps.download_from_drive('dimuons_1000_collisions.hdf5')"
   ]
  },
  {
   "cell_type": "code",
   "execution_count": 15,
   "id": "6127ef23",
   "metadata": {},
   "outputs": [
    {
     "name": "stdout",
     "output_type": "stream",
     "text": [
      "\n",
      "Building a simplified interface to the events...\n",
      "\n",
      "Building the indices...\n",
      "Built the indices!\n",
      "Data is read in and input file is closed.\n",
      "Reading in event  0\n"
     ]
    }
   ],
   "source": [
    "infile = 'data/dimuons_1000_collisions.hdf5'\n",
    "collisions = pps.get_collisions(infile,experiment='CMS',verbose=False)"
   ]
  },
  {
   "cell_type": "code",
   "execution_count": null,
   "id": "2e56818d",
   "metadata": {},
   "outputs": [],
   "source": [
    "#calculo da massa de muons de cargas positivas"
   ]
  },
  {
   "cell_type": "code",
   "execution_count": null,
   "id": "499b89df",
   "metadata": {},
   "outputs": [],
   "source": []
  },
  {
   "cell_type": "code",
   "execution_count": null,
   "id": "7a1387d9",
   "metadata": {},
   "outputs": [],
   "source": []
  },
  {
   "cell_type": "code",
   "execution_count": null,
   "id": "b5a1b6e1",
   "metadata": {},
   "outputs": [],
   "source": []
  },
  {
   "cell_type": "code",
   "execution_count": null,
   "id": "2b564faa",
   "metadata": {},
   "outputs": [],
   "source": []
  }
 ],
 "metadata": {
  "kernelspec": {
   "display_name": "Python 3 (ipykernel)",
   "language": "python",
   "name": "python3"
  },
  "language_info": {
   "codemirror_mode": {
    "name": "ipython",
    "version": 3
   },
   "file_extension": ".py",
   "mimetype": "text/x-python",
   "name": "python",
   "nbconvert_exporter": "python",
   "pygments_lexer": "ipython3",
   "version": "3.9.7"
  }
 },
 "nbformat": 4,
 "nbformat_minor": 5
}
